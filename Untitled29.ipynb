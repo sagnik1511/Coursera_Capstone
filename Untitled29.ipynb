{
  "nbformat": 4,
  "nbformat_minor": 0,
  "metadata": {
    "colab": {
      "name": "Untitled29.ipynb",
      "provenance": []
    },
    "kernelspec": {
      "name": "python3",
      "display_name": "Python 3"
    }
  },
  "cells": [
    {
      "cell_type": "markdown",
      "metadata": {
        "id": "8p87FhLkQ1nc"
      },
      "source": [
        "# Coursera Capstone Project :\r\n",
        "\r\n",
        "This notebook is made for the 1st assignment of the capstone project shared for the learners by Coursera.\r\n",
        "\r\n",
        "\r\n",
        "In this notebook we have to import *numpy* and *pandas* libraries and then print a statement :"
      ]
    },
    {
      "cell_type": "code",
      "metadata": {
        "colab": {
          "base_uri": "https://localhost:8080/"
        },
        "id": "FKNQ3GHoRO0p",
        "outputId": "ad6c968a-7e82-4b87-dd9f-474bc53cf7c3"
      },
      "source": [
        "import pandas as pd\r\n",
        "import numpy as np\r\n",
        "print(\"Hello Capstone Project Course!\")\r\n",
        "\r\n",
        "        "
      ],
      "execution_count": 1,
      "outputs": [
        {
          "output_type": "stream",
          "text": [
            "Hello Capstone Project Course!\n"
          ],
          "name": "stdout"
        }
      ]
    }
  ]
}